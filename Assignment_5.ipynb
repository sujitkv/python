{
 "cells": [
  {
   "cell_type": "markdown",
   "id": "127c9098",
   "metadata": {},
   "source": [
    "Q1. What does an empty dictionary's code look like?\n",
    "Ans. An empty dictionary is represented as an empty pair of curly braces: {}.\n",
    "\n",
    "Q2. What is the value of a dictionary value with the key 'foo' and the value 42?\n",
    "Ans. The value associated with the key 'foo' is 42 in the dictionary.\n",
    "\n",
    "Q3. What is the most significant distinction between a dictionary and a list?\n",
    "Ans. A dictionary uses key-value pairs for data storage, allowing retrieval by keys, while a list is an ordered collection of values accessed by indices.\n",
    "\n",
    "Q4. What happens if you try to access spam['foo'] if spam is {'bar': 100}?\n",
    "Ans. Accessing spam['foo'] in a dictionary with no 'foo' key raises a KeyError since 'foo' doesn't exist in {'bar': 100}.\n",
    "\n",
    "Q5. If a dictionary is stored in spam, what is the difference between 'cat' in spam and 'cat' in spam.keys()?\n",
    "Ans. 'cat' in spam checks if 'cat' is a key in the dictionary. 'cat' in spam.keys() does the same, but it's redundant as 'in spam' is sufficient.\n",
    "\n",
    "Q6. If a dictionary is stored in spam, what is the difference between 'cat' in spam and 'cat' in spam.values()?\n",
    "Ans. 'cat' in spam checks if 'cat' is a key in the dictionary, while 'cat' in spam.values() checks if 'cat' is a value in the dictionary.\n",
    "\n",
    "Q7. What is a shortcut for the following code?\n",
    "if 'color' not in spam:\n",
    "spam['color'] = 'black'\n",
    "Ans. A shortcut is to use the setdefault method:\n",
    "spam.setdefault('color', 'black').\n",
    "\n",
    "Q8. How do you \"pretty print\" dictionary values using which module and function?\n",
    "Ans. You can \"pretty print\" dictionary values using the pprint module and its pprint() function. Import it with from pprint import pprint."
   ]
  }
 ],
 "metadata": {
  "kernelspec": {
   "display_name": "Python 3 (ipykernel)",
   "language": "python",
   "name": "python3"
  },
  "language_info": {
   "codemirror_mode": {
    "name": "ipython",
    "version": 3
   },
   "file_extension": ".py",
   "mimetype": "text/x-python",
   "name": "python",
   "nbconvert_exporter": "python",
   "pygments_lexer": "ipython3",
   "version": "3.11.3"
  }
 },
 "nbformat": 4,
 "nbformat_minor": 5
}
