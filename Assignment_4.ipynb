{
 "cells": [
  {
   "cell_type": "markdown",
   "id": "a4db13ba",
   "metadata": {},
   "source": [
    "Q1. What exactly is []?\n",
    "Ans1. [] represents an empty list in Python, which contains no elements.\n",
    "\n",
    "Q2. In a list of values stored in a variable called spam, how would you assign the value 'hello' as the third value? (Assume [2, 4, 6, 8, 10] are in spam.)\n",
    "Ans2. You can assign 'hello' as the third value in the list 'spam' like this: spam[2] = 'hello'.\n",
    "\n",
    "Q3. What is the value of spam[int(int('3' * 2) / 11)]?\n",
    "Ans3. The value of spam[int(int('3' * 2) / 11)] is 'd'.\n",
    "\n",
    "Q4. What is the value of spam[-1]?\n",
    "Ans4. The value of spam[-1] is 'd'.\n",
    "\n",
    "Q5. What is the value of spam[:2]?\n",
    "Ans5. The value of spam[:2] is ['a', 'b'].\n",
    "\n",
    "Q6. What is the value of bacon.index('cat')?\n",
    "Ans6. The value of bacon.index('cat') is 1.\n",
    "\n",
    "Q7. How does bacon.append(99) change the look of the list value in bacon?\n",
    "Ans7. bacon.append(99) adds the value 99 to the end of the 'bacon' list, changing it to [3.14, 'cat', 11, 'cat', True, 99].\n",
    "\n",
    "Q8. How does bacon.remove('cat') change the look of the list in bacon?\n",
    "Ans8. bacon.remove('cat') removes the first occurrence of 'cat' from the 'bacon' list, resulting in [3.14, 11, 'cat', True].\n",
    "\n",
    "Q9. What are the list concatenation and list replication operators?\n",
    "Ans9. The list concatenation operator is +, used to combine two or more lists. The list replication operator is *, used to repeat a list multiple times.\n",
    "\n",
    "Q10. What is the difference between the list methods append() and insert()?\n",
    "Ans10. append() adds an element to the end of a list, while insert() inserts an element at a specified index within the list.\n",
    "\n",
    "Q11. What are the two methods for removing items from a list?\n",
    "Ans11. The two methods for removing items from a list are remove() (removes by value) and pop() (removes by index).\n",
    "\n",
    "Q12. Describe how list values and string values are identical.\n",
    "Ans12. Both list values and string values are ordered sequences of elements, accessible by index. They support slicing, concatenation, and repetition operations.\n",
    "\n",
    "Q13. What's the difference between tuples and lists?\n",
    "Ans13. Lists are mutable (can be changed), while tuples are immutable (cannot be changed after creation).\n",
    "\n",
    "Q14. How do you type a tuple value that only contains the integer 42?\n",
    "Ans14. To create a tuple with the integer 42, use parentheses like this: (42,).\n",
    "\n",
    "Q15. How do you get a list value's tuple form? How do you get a tuple value's list form?\n",
    "Ans15. To convert a list to a tuple, use tuple(list). To convert a tuple to a list, use list(tuple).\n",
    "\n",
    "Q16. Variables that \"contain\" list values are not necessarily lists themselves. Instead, what do they contain?\n",
    "Ans16. They contain references or pointers to the list objects in memory.\n",
    "\n",
    "Q17. How do you distinguish between copy.copy() and copy.deepcopy()?\n",
    "Ans17. copy.copy() creates a shallow copy of an object, duplicating references but not nested objects. copy.deepcopy() creates a deep copy, duplicating the object and all its nested objects recursively.\n",
    "\n",
    "\n",
    "\n",
    "\n"
   ]
  }
 ],
 "metadata": {
  "kernelspec": {
   "display_name": "Python 3 (ipykernel)",
   "language": "python",
   "name": "python3"
  },
  "language_info": {
   "codemirror_mode": {
    "name": "ipython",
    "version": 3
   },
   "file_extension": ".py",
   "mimetype": "text/x-python",
   "name": "python",
   "nbconvert_exporter": "python",
   "pygments_lexer": "ipython3",
   "version": "3.11.3"
  }
 },
 "nbformat": 4,
 "nbformat_minor": 5
}
