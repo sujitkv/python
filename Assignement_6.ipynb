{
 "cells": [
  {
   "cell_type": "markdown",
   "id": "9055cd6e",
   "metadata": {},
   "source": [
    "Q.1. What are keywords in python? Using the keyword library, print all the python keywords.\n",
    "\n",
    "\n",
    ": Keywords are the reserved keywords in python that has their own meaning and we can't use them as a variable or as a identifier. "
   ]
  },
  {
   "cell_type": "code",
   "execution_count": 5,
   "id": "9e64e62d",
   "metadata": {},
   "outputs": [
    {
     "name": "stdout",
     "output_type": "stream",
     "text": [
      "['False', 'None', 'True', 'and', 'as', 'assert', 'async', 'await', 'break', 'class', 'continue', 'def', 'del', 'elif', 'else', 'except', 'finally', 'for', 'from', 'global', 'if', 'import', 'in', 'is', 'lambda', 'nonlocal', 'not', 'or', 'pass', 'raise', 'return', 'try', 'while', 'with', 'yield']\n"
     ]
    }
   ],
   "source": [
    "import keyword\n",
    "\n",
    "print(keyword.kwlist)"
   ]
  },
  {
   "cell_type": "markdown",
   "id": "a77692e7",
   "metadata": {},
   "source": [
    "Q.2. What are the rules to create variables in python?\n",
    "\n",
    ": There are some rules as the coding principles that we have to follow while creating variables in python.\n",
    "variable name should be in capital letters and it should start with letter or underscore. \n",
    "\n",
    "should not contain any special characters.\n",
    "\n",
    "should be keep in mind they are case sensitive, so if you are using that in capital letters then it should be followed throughout the program.\n",
    "\n",
    "no reserved keywords can be used as a variable name.\n"
   ]
  },
  {
   "cell_type": "markdown",
   "id": "1cd82817",
   "metadata": {},
   "source": [
    "Q.3. What are the standards and conventions followed for the nomenclature of variables in\n",
    "python to improve code readability and maintainability?\n",
    "\n",
    ": variable name should be descriptive and meaningful that add more meaning or infromation to the reader.\n",
    "\n",
    "should use underscore if there are two separate words in the varible name.\n",
    "\n",
    "should not use reserved keywords.\n",
    "\n",
    "constants should be used in all capital letters.\n",
    "\n",
    "use clear names not anything."
   ]
  },
  {
   "cell_type": "markdown",
   "id": "8a570b59",
   "metadata": {},
   "source": [
    "Q.4. What will happen if a keyword is used as a variable name?\n",
    "\n",
    ": Possibilities of two thing 1) Either the menaing of variable will change and it will affect the output or value.\n",
    "it will throw error for many reasons, like it will not take value assignement most of the time."
   ]
  },
  {
   "cell_type": "markdown",
   "id": "cdf315f5",
   "metadata": {},
   "source": [
    "Q.5. For what purpose def keyword is used?\n",
    "\n",
    ": It is used to define a function without def keyword we can't define a function."
   ]
  },
  {
   "cell_type": "markdown",
   "id": "68c84f78",
   "metadata": {},
   "source": [
    "Q.6. What is the operation of this special character ‘\\’?\n",
    "\n",
    "it is normal used to escape sequence like for new line. e.g. \"hello\\world\".\n",
    "like that it will allow characters to include in a string that is not allowed otherwise.\n",
    "for example escaping double quotes. \"hello\\\"world\\\"\".\n",
    "print('It\\'s Python!')  # Escapes single quote\n",
    "\n",
    "total = 10 + 20 + \\\n",
    "        30 + 40\n",
    "print(total)  # Output: 100 (to continue code in the next line)"
   ]
  },
  {
   "cell_type": "markdown",
   "id": "9055202a",
   "metadata": {},
   "source": [
    "Q.7. Give an example of the following conditions:\n",
    "(i) Homogeneous list\n",
    "(ii) Heterogeneous set\n",
    "(iii) Homogeneous tuple\n",
    "\n",
    ":A homogeneous list contains elements of the same data type, such as [10, 20, 30, 40], where all elements are integers. A heterogeneous set includes elements of different data types, for example {25, \"Python\", 3.14, True} which combines an integer, string, float, and boolean. A homogeneous tuple holds elements of the same type, like (\"apple\", \"banana\", \"cherry\"), where all items are strings."
   ]
  },
  {
   "cell_type": "markdown",
   "id": "0144e13c",
   "metadata": {},
   "source": [
    "Q.8. Explain the mutable and immutable data types with proper explanation & examples.\n",
    "\n",
    ":In Python, mutable data types are those whose values can be changed after creation, such as lists, dictionaries, and sets. For example, you can modify a list like `[1, 2, 3]` by changing an element or adding new ones. On the other hand, immutable data types cannot be altered once created; any change results in a new object. Examples include strings, integers, floats, and tuples. For instance, modifying a string like `\"Python\"` by adding `\"3\"` creates a new string `\"Python3\"`, leaving the original unchanged."
   ]
  },
  {
   "cell_type": "markdown",
   "id": "a1f5675a",
   "metadata": {},
   "source": [
    "Q.9. Write a code to create the given structure using only for loop.\n",
    "*\n",
    "***\n",
    "*****\n",
    "*******\n",
    "*********"
   ]
  },
  {
   "cell_type": "code",
   "execution_count": 32,
   "id": "c3d8db56",
   "metadata": {},
   "outputs": [
    {
     "name": "stdout",
     "output_type": "stream",
     "text": [
      "*\n",
      "***\n",
      "*****\n",
      "*******\n",
      "*********\n",
      "***********\n"
     ]
    }
   ],
   "source": [
    "rows = 6\n",
    "for i in range(rows):\n",
    "    stars = 2*i +1\n",
    "\n",
    "    print(\"*\"*stars)"
   ]
  },
  {
   "cell_type": "markdown",
   "id": "33e90dcf",
   "metadata": {},
   "source": [
    "Q.10. Write a code to create the given structure using while loop."
   ]
  },
  {
   "cell_type": "code",
   "execution_count": 3,
   "id": "907bdc51",
   "metadata": {},
   "outputs": [
    {
     "name": "stdout",
     "output_type": "stream",
     "text": [
      "|||||||||\n",
      "|||||||\n",
      "|||||\n",
      "|||\n",
      "|\n"
     ]
    }
   ],
   "source": [
    "rows = 9 \n",
    "while rows >0:\n",
    "    print(\"|\"*rows)\n",
    "    rows-=2\n",
    "  "
   ]
  }
 ],
 "metadata": {
  "kernelspec": {
   "display_name": "Python 3 (ipykernel)",
   "language": "python",
   "name": "python3"
  },
  "language_info": {
   "codemirror_mode": {
    "name": "ipython",
    "version": 3
   },
   "file_extension": ".py",
   "mimetype": "text/x-python",
   "name": "python",
   "nbconvert_exporter": "python",
   "pygments_lexer": "ipython3",
   "version": "3.11.3"
  }
 },
 "nbformat": 4,
 "nbformat_minor": 5
}
